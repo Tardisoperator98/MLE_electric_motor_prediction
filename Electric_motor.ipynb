{
 "cells": [
  {
   "cell_type": "markdown",
   "id": "1150a5a4-70ad-48e2-be17-3b5eb7f4576a",
   "metadata": {},
   "source": [
    "Predicting performance of electric motor\n"
   ]
  },
  {
   "cell_type": "code",
   "execution_count": 2,
   "id": "814ee9c4-8ef5-4193-9bf1-06a9d79faa8b",
   "metadata": {},
   "outputs": [],
   "source": [
    "# Python ≥3.5 is required\n",
    "import sys\n",
    "assert sys.version_info >= (3, 5)\n",
    "\n",
    "# Scikit-Learn ≥0.20 is required\n",
    "import sklearn\n",
    "assert sklearn.__version__ >= \"0.20\"\n",
    "\n",
    "import pandas as pd\n",
    "\n",
    "# Common imports\n",
    "import numpy as np\n",
    "import os\n",
    "\n",
    "# to make this notebook's output stable across runs\n",
    "np.random.seed(42)\n",
    "\n",
    "# To plot pretty figures\n",
    "%matplotlib inline\n",
    "import matplotlib as mpl\n",
    "import matplotlib.pyplot as plt"
   ]
  },
  {
   "cell_type": "code",
   "execution_count": 11,
   "id": "09b33d46-7ba6-40e0-b920-ca7871fa0599",
   "metadata": {},
   "outputs": [],
   "source": [
    "#Data preparation\n",
    "\n",
    "\n",
    "train_data = pd.read_csv(\"Motor_data/measures_v2.csv\", sep=\",\")\n",
    "\n"
   ]
  },
  {
   "cell_type": "code",
   "execution_count": 14,
   "id": "001404a2-73c0-4629-a562-ede6dceab078",
   "metadata": {},
   "outputs": [
    {
     "data": {
      "text/html": [
       "<div>\n",
       "<style scoped>\n",
       "    .dataframe tbody tr th:only-of-type {\n",
       "        vertical-align: middle;\n",
       "    }\n",
       "\n",
       "    .dataframe tbody tr th {\n",
       "        vertical-align: top;\n",
       "    }\n",
       "\n",
       "    .dataframe thead th {\n",
       "        text-align: right;\n",
       "    }\n",
       "</style>\n",
       "<table border=\"1\" class=\"dataframe\">\n",
       "  <thead>\n",
       "    <tr style=\"text-align: right;\">\n",
       "      <th></th>\n",
       "      <th>u_q</th>\n",
       "      <th>coolant</th>\n",
       "      <th>stator_winding</th>\n",
       "      <th>u_d</th>\n",
       "      <th>stator_tooth</th>\n",
       "      <th>motor_speed</th>\n",
       "      <th>i_d</th>\n",
       "      <th>i_q</th>\n",
       "      <th>pm</th>\n",
       "      <th>stator_yoke</th>\n",
       "      <th>ambient</th>\n",
       "      <th>torque</th>\n",
       "      <th>profile_id</th>\n",
       "    </tr>\n",
       "  </thead>\n",
       "  <tbody>\n",
       "    <tr>\n",
       "      <th>0</th>\n",
       "      <td>-0.450682</td>\n",
       "      <td>18.805172</td>\n",
       "      <td>19.086670</td>\n",
       "      <td>-0.350055</td>\n",
       "      <td>18.293219</td>\n",
       "      <td>0.002866</td>\n",
       "      <td>0.004419</td>\n",
       "      <td>0.000328</td>\n",
       "      <td>24.554214</td>\n",
       "      <td>18.316547</td>\n",
       "      <td>19.850691</td>\n",
       "      <td>0.187101</td>\n",
       "      <td>17.0</td>\n",
       "    </tr>\n",
       "    <tr>\n",
       "      <th>1</th>\n",
       "      <td>-0.325737</td>\n",
       "      <td>18.818571</td>\n",
       "      <td>19.092390</td>\n",
       "      <td>-0.305803</td>\n",
       "      <td>18.294807</td>\n",
       "      <td>0.000257</td>\n",
       "      <td>0.000606</td>\n",
       "      <td>-0.000785</td>\n",
       "      <td>24.538078</td>\n",
       "      <td>18.314955</td>\n",
       "      <td>19.850672</td>\n",
       "      <td>0.245417</td>\n",
       "      <td>17.0</td>\n",
       "    </tr>\n",
       "    <tr>\n",
       "      <th>2</th>\n",
       "      <td>-0.440864</td>\n",
       "      <td>18.828770</td>\n",
       "      <td>19.089380</td>\n",
       "      <td>-0.372503</td>\n",
       "      <td>18.294094</td>\n",
       "      <td>0.002355</td>\n",
       "      <td>0.001290</td>\n",
       "      <td>0.000386</td>\n",
       "      <td>24.544693</td>\n",
       "      <td>18.326307</td>\n",
       "      <td>19.850657</td>\n",
       "      <td>0.176615</td>\n",
       "      <td>17.0</td>\n",
       "    </tr>\n",
       "    <tr>\n",
       "      <th>3</th>\n",
       "      <td>-0.327026</td>\n",
       "      <td>18.835567</td>\n",
       "      <td>19.083031</td>\n",
       "      <td>-0.316199</td>\n",
       "      <td>18.292542</td>\n",
       "      <td>0.006105</td>\n",
       "      <td>0.000026</td>\n",
       "      <td>0.002046</td>\n",
       "      <td>24.554018</td>\n",
       "      <td>18.330833</td>\n",
       "      <td>19.850647</td>\n",
       "      <td>0.238303</td>\n",
       "      <td>17.0</td>\n",
       "    </tr>\n",
       "    <tr>\n",
       "      <th>4</th>\n",
       "      <td>-0.471150</td>\n",
       "      <td>18.857033</td>\n",
       "      <td>19.082525</td>\n",
       "      <td>-0.332272</td>\n",
       "      <td>18.291428</td>\n",
       "      <td>0.003133</td>\n",
       "      <td>-0.064317</td>\n",
       "      <td>0.037184</td>\n",
       "      <td>24.565397</td>\n",
       "      <td>18.326662</td>\n",
       "      <td>19.850639</td>\n",
       "      <td>0.208197</td>\n",
       "      <td>17.0</td>\n",
       "    </tr>\n",
       "  </tbody>\n",
       "</table>\n",
       "</div>"
      ],
      "text/plain": [
       "        u_q    coolant  stator_winding       u_d  stator_tooth  motor_speed  \\\n",
       "0 -0.450682  18.805172       19.086670 -0.350055     18.293219     0.002866   \n",
       "1 -0.325737  18.818571       19.092390 -0.305803     18.294807     0.000257   \n",
       "2 -0.440864  18.828770       19.089380 -0.372503     18.294094     0.002355   \n",
       "3 -0.327026  18.835567       19.083031 -0.316199     18.292542     0.006105   \n",
       "4 -0.471150  18.857033       19.082525 -0.332272     18.291428     0.003133   \n",
       "\n",
       "        i_d       i_q         pm  stator_yoke    ambient    torque  profile_id  \n",
       "0  0.004419  0.000328  24.554214    18.316547  19.850691  0.187101        17.0  \n",
       "1  0.000606 -0.000785  24.538078    18.314955  19.850672  0.245417        17.0  \n",
       "2  0.001290  0.000386  24.544693    18.326307  19.850657  0.176615        17.0  \n",
       "3  0.000026  0.002046  24.554018    18.330833  19.850647  0.238303        17.0  \n",
       "4 -0.064317  0.037184  24.565397    18.326662  19.850639  0.208197        17.0  "
      ]
     },
     "execution_count": 14,
     "metadata": {},
     "output_type": "execute_result"
    }
   ],
   "source": [
    "#Data exploration\n",
    "train_data.head()"
   ]
  },
  {
   "cell_type": "code",
   "execution_count": 21,
   "id": "3809ea86-a8be-49be-bdf0-a46aa9dd5560",
   "metadata": {},
   "outputs": [],
   "source": [
    "y = train_data[\"torque\"]\n",
    "X = train_data[\"motor_speed\"]"
   ]
  },
  {
   "cell_type": "code",
   "execution_count": 22,
   "id": "5735e719-f5ce-477a-8a49-91fa58e1e3a1",
   "metadata": {},
   "outputs": [],
   "source": [
    "# split\n",
    "from sklearn.model_selection import train_test_split\n",
    "X_train,X_test,y_train,y_test = train_test_split(X,y,random_state=2529)"
   ]
  },
  {
   "cell_type": "code",
   "execution_count": null,
   "id": "423909a9-d004-42ab-824a-ebeeae89dc6b",
   "metadata": {},
   "outputs": [],
   "source": []
  },
  {
   "cell_type": "code",
   "execution_count": 35,
   "id": "71bd4636-7912-4c02-896d-2e8cfbe3c4db",
   "metadata": {},
   "outputs": [
    {
     "data": {
      "image/png": "[encoded data removed]",
      "text/plain": [
       "<Figure size 640x480 with 1 Axes>"
      ]
     },
     "metadata": {},
     "output_type": "display_data"
    }
   ],
   "source": [
    "plt.plot(X, y, \"b.\")\n",
    "plt.xlabel(\"$x_1$\", fontsize=18)\n",
    "plt.ylabel(\"$y$\", rotation=0, fontsize=18)\n",
    "plt.axis([0, 5, 0, 8])\n",
    "#save_fig(\"generated_data_plot\")\n",
    "plt.show()"
   ]
  }
 ],
 "metadata": {
  "kernelspec": {
   "display_name": "Python 3 (ipykernel)",
   "language": "python",
   "name": "python3"
  },
  "language_info": {
   "codemirror_mode": {
    "name": "ipython",
    "version": 3
   },
   "file_extension": ".py",
   "mimetype": "text/x-python",
   "name": "python",
   "nbconvert_exporter": "python",
   "pygments_lexer": "ipython3",
   "version": "3.12.8"
  }
 },
 "nbformat": 4,
 "nbformat_minor": 5
}
